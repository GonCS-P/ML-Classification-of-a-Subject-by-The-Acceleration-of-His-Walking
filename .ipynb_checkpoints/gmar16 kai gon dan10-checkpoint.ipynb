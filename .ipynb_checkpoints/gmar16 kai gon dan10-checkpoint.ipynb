{
 "cells": [
  {
   "cell_type": "code",
   "execution_count": 1,
   "metadata": {},
   "outputs": [],
   "source": [
    "%matplotlib -- inline\n",
    "import numpy as np\n",
    "import matplotlib.pyplot as plt"
   ]
  },
  {
   "cell_type": "code",
   "execution_count": 2,
   "metadata": {},
   "outputs": [],
   "source": [
    "super_data=np.load('super_data_new.npy')\n",
    "#kai=np.load('kais_cd.npy')\n",
    "#gon=np.load('gons_cd.npy')\n",
    "#dan=np.load('dans_cd.npy')\n"
   ]
  },
  {
   "cell_type": "markdown",
   "metadata": {},
   "source": [
    "### logistic regression "
   ]
  },
  {
   "cell_type": "code",
   "execution_count": 3,
   "metadata": {},
   "outputs": [],
   "source": [
    "from sklearn import linear_model\n",
    "from sklearn import cross_validation"
   ]
  },
  {
   "cell_type": "code",
   "execution_count": 4,
   "metadata": {},
   "outputs": [],
   "source": [
    "train_in,w_in,train_tar,w_tar=cross_validation.train_test_split(\n",
    "super_data[:,:42],super_data[:,42:45],test_size=0.33)"
   ]
  },
  {
   "cell_type": "code",
   "execution_count": 5,
   "metadata": {},
   "outputs": [],
   "source": [
    "def logreg_fit(ins,tar,idx):\n",
    "    logreg=linear_model.LogisticRegression(C=1000000)\n",
    "    X=ins\n",
    "    Y=np.array(tar.argmax(axis=1)==idx,dtype=float)\n",
    "    logreg.fit(X,Y)\n",
    "    return logreg"
   ]
  },
  {
   "cell_type": "code",
   "execution_count": 6,
   "metadata": {
    "collapsed": true
   },
   "outputs": [],
   "source": [
    "def logreg_er(logreg,ins,tar,idx):\n",
    "    o=logreg.predict(ins)\n",
    "    t=np.array(tar.argmax(axis=1)==idx,dtype=float)\n",
    "    er=np.abs(t-o).sum()/t.shape[0]\n",
    "    return er"
   ]
  },
  {
   "cell_type": "code",
   "execution_count": 7,
   "metadata": {
    "collapsed": true
   },
   "outputs": [],
   "source": [
    "logreg_k=logreg_fit(train_in,train_tar,2)\n",
    "logreg_g=logreg_fit(train_in,train_tar,1)\n",
    "logreg_d=logreg_fit(train_in,train_tar,0)"
   ]
  },
  {
   "cell_type": "code",
   "execution_count": 8,
   "metadata": {},
   "outputs": [],
   "source": [
    "er_k=logreg_er(logreg_k,w_in,w_tar,2)\n",
    "er_g=logreg_er(logreg_g,w_in,w_tar,1)\n",
    "er_d=logreg_er(logreg_d,w_in,w_tar,0)"
   ]
  },
  {
   "cell_type": "code",
   "execution_count": 9,
   "metadata": {},
   "outputs": [
    {
     "data": {
      "text/plain": [
       "(0.0, 0.15384615384615385, 0.0)"
      ]
     },
     "execution_count": 9,
     "metadata": {},
     "output_type": "execute_result"
    }
   ],
   "source": [
    "er_k,er_g,er_d"
   ]
  },
  {
   "cell_type": "code",
   "execution_count": 42,
   "metadata": {},
   "outputs": [],
   "source": [
    "import copy\n",
    "import pickle\n",
    "f=open('log_k_best','wb')\n",
    "pickle.dump(logreg_k,f)\n",
    "f.close()"
   ]
  },
  {
   "cell_type": "markdown",
   "metadata": {},
   "source": [
    "### neural network "
   ]
  },
  {
   "cell_type": "code",
   "execution_count": 12,
   "metadata": {},
   "outputs": [],
   "source": [
    "valid_in,test_in,valid_tar,test_tar=cross_validation.train_test_split(\n",
    "w_in,w_tar,test_size=0.5)"
   ]
  },
  {
   "cell_type": "code",
   "execution_count": 13,
   "metadata": {},
   "outputs": [],
   "source": [
    "from pybrain.tools.shortcuts import buildNetwork\n",
    "from pybrain.structure.modules import SigmoidLayer,SoftmaxLayer\n",
    "from pybrain.datasets import SupervisedDataSet\n",
    "from pybrain.supervised.trainers import BackpropTrainer"
   ]
  },
  {
   "cell_type": "code",
   "execution_count": 14,
   "metadata": {},
   "outputs": [],
   "source": [
    "ds_train=SupervisedDataSet(50,25)\n",
    "ds_train.setField('input',train_in)\n",
    "ds_train.setField('target',train_tar)"
   ]
  },
  {
   "cell_type": "code",
   "execution_count": 15,
   "metadata": {},
   "outputs": [],
   "source": [
    "net_stam=buildNetwork(42,20,3,outclass=SigmoidLayer)\n",
    "trainer_stam=BackpropTrainer(net_stam,ds_train)"
   ]
  },
  {
   "cell_type": "code",
   "execution_count": 16,
   "metadata": {},
   "outputs": [
    {
     "name": "stdout",
     "output_type": "stream",
     "text": [
      "Wall time: 2.43 s\n"
     ]
    }
   ],
   "source": [
    "%%time\n",
    "er1,er2=trainer_stam.trainUntilConvergence(maxEpochs=100,continueEpochs=2,validationProportion=0.25)"
   ]
  },
  {
   "cell_type": "code",
   "execution_count": 17,
   "metadata": {
    "scrolled": true
   },
   "outputs": [
    {
     "data": {
      "text/plain": [
       "[<matplotlib.lines.Line2D at 0x1ba69588>,\n",
       " <matplotlib.lines.Line2D at 0x1ba69748>]"
      ]
     },
     "execution_count": 17,
     "metadata": {},
     "output_type": "execute_result"
    },
    {
     "data": {
      "image/png": "[encoded data removed]",
      "text/plain": [
       "<matplotlib.figure.Figure at 0x1b93bc18>"
      ]
     },
     "metadata": {},
     "output_type": "display_data"
    }
   ],
   "source": [
    "plt.plot(er1,'b-',er2,'r-')"
   ]
  },
  {
   "cell_type": "code",
   "execution_count": 18,
   "metadata": {},
   "outputs": [],
   "source": [
    "ds_valid=SupervisedDataSet(13,25)\n",
    "ds_valid.setField('input',valid_in)\n",
    "ds_valid.setField('target',valid_tar)"
   ]
  },
  {
   "cell_type": "code",
   "execution_count": 47,
   "metadata": {},
   "outputs": [
    {
     "data": {
      "text/plain": [
       "0.46153846153846156"
      ]
     },
     "execution_count": 47,
     "metadata": {},
     "output_type": "execute_result"
    }
   ],
   "source": [
    "best_net=net_stam\n",
    "err=(best_net.activateOnDataset(ds_valid).argmax(axis=1)!=ds_valid['target'].argmax(axis=1)\n",
    "    ).sum()/float(ds_valid['target'].shape[0])\n",
    "err"
   ]
  },
  {
   "cell_type": "code",
   "execution_count": 48,
   "metadata": {},
   "outputs": [],
   "source": [
    "for k in range(21,81,1):\n",
    "    net=buildNetwork(42,k,3,outclass=SigmoidLayer)\n",
    "    trainer=BackpropTrainer(net)\n",
    "    trainer.setData(ds_train)\n",
    "    trainer.trainUntilConvergence(maxEpochs=100,continueEpochs=2,validationProportion=0.25)\n",
    "    tmp_err=(net.activateOnDataset(ds_valid).argmax(axis=1)!=ds_valid['target'].argmax(axis=1)).sum()/float(ds_valid['target'].shape[0])\n",
    "    \n",
    "    if tmp_err<err:\n",
    "        j=k\n",
    "        best_net=copy.deepcopy(net)\n",
    "        err=tmp_err"
   ]
  },
  {
   "cell_type": "code",
   "execution_count": 49,
   "metadata": {},
   "outputs": [
    {
     "data": {
      "text/plain": [
       "47"
      ]
     },
     "execution_count": 49,
     "metadata": {},
     "output_type": "execute_result"
    }
   ],
   "source": [
    "j"
   ]
  },
  {
   "cell_type": "code",
   "execution_count": 50,
   "metadata": {},
   "outputs": [
    {
     "data": {
      "text/plain": [
       "0.01"
      ]
     },
     "execution_count": 50,
     "metadata": {},
     "output_type": "execute_result"
    }
   ],
   "source": [
    "(best_net.activateOnDataset(ds_valid).argmax(axis=1)!=ds_valid['target'].argmax(axis=1)).sum()/100.0"
   ]
  },
  {
   "cell_type": "code",
   "execution_count": 53,
   "metadata": {
    "collapsed": true
   },
   "outputs": [],
   "source": [
    "ds_test=SupervisedDataSet(13,25)\n",
    "ds_test.setField('input',test_in)\n",
    "ds_test.setField('target',test_tar)"
   ]
  },
  {
   "cell_type": "code",
   "execution_count": 54,
   "metadata": {},
   "outputs": [
    {
     "data": {
      "text/plain": [
       "0.15384615384615385"
      ]
     },
     "execution_count": 54,
     "metadata": {},
     "output_type": "execute_result"
    }
   ],
   "source": [
    "(best_net.activateOnDataset(ds_test).argmax(axis=1)!=ds_test['target'].argmax(axis=1)).sum()/float(ds_test['target'].shape[0])"
   ]
  },
  {
   "cell_type": "code",
   "execution_count": null,
   "metadata": {},
   "outputs": [],
   "source": [
    "f=open('best_net.net','wb')\n",
    "pickle.dump(best_net,f)\n",
    "f.close()"
   ]
  },
  {
   "cell_type": "code",
   "execution_count": null,
   "metadata": {},
   "outputs": [],
   "source": [
    "plt.plot(kai[0:100,1])\n",
    "plt.plot(kai[100:200,1])\n",
    "plt.plot(kai[200:300,1])"
   ]
  },
  {
   "cell_type": "code",
   "execution_count": null,
   "metadata": {},
   "outputs": [],
   "source": [
    "plt.plot(kai[0:100,1],'g-')\n",
    "plt.plot(dan[0:100,1],'r-')\n",
    "plt.plot(gon[0:100,1],'b-')"
   ]
  }
 ],
 "metadata": {
  "kernelspec": {
   "display_name": "Python 3",
   "language": "python",
   "name": "python3"
  },
  "language_info": {
   "codemirror_mode": {
    "name": "ipython",
    "version": 3
   },
   "file_extension": ".py",
   "mimetype": "text/x-python",
   "name": "python",
   "nbconvert_exporter": "python",
   "pygments_lexer": "ipython3",
   "version": "3.6.1"
  }
 },
 "nbformat": 4,
 "nbformat_minor": 1
}
